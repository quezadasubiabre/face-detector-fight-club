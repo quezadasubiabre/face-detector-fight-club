{
  "nbformat": 4,
  "nbformat_minor": 0,
  "metadata": {
    "colab": {
      "name": "Visualize video.ipynb",
      "provenance": [],
      "collapsed_sections": []
    },
    "kernelspec": {
      "name": "python3",
      "display_name": "Python 3"
    },
    "accelerator": "GPU"
  },
  "cells": [
    {
      "cell_type": "markdown",
      "metadata": {
        "id": "grBUTPcd5iny",
        "colab_type": "text"
      },
      "source": [
        "# Mount drive\n",
        "\n"
      ]
    },
    {
      "cell_type": "code",
      "metadata": {
        "id": "gd9XemGX5eC4",
        "colab_type": "code",
        "colab": {
          "base_uri": "https://localhost:8080/",
          "height": 55
        },
        "outputId": "7a679c63-4389-419a-ca2c-3c025dea84eb"
      },
      "source": [
        "from google.colab import drive\n",
        "drive.mount('/content/gdrive')"
      ],
      "execution_count": 1,
      "outputs": [
        {
          "output_type": "stream",
          "text": [
            "Drive already mounted at /content/gdrive; to attempt to forcibly remount, call drive.mount(\"/content/gdrive\", force_remount=True).\n"
          ],
          "name": "stdout"
        }
      ]
    },
    {
      "cell_type": "markdown",
      "metadata": {
        "id": "9G1fBeoM5r9u",
        "colab_type": "text"
      },
      "source": [
        "# Face recognition video\n",
        "\n",
        "Run with GPU\n",
        "\n",
        "Source code from https://www.pyimagesearch.com/2018/06/18/face-recognition-with-opencv-python-and-deep-learning/"
      ]
    },
    {
      "cell_type": "code",
      "metadata": {
        "id": "W2-fCJ34CMDq",
        "colab_type": "code",
        "colab": {
          "base_uri": "https://localhost:8080/",
          "height": 163
        },
        "outputId": "6526ba04-fc6e-43c9-ad79-334074c80697"
      },
      "source": [
        "!pip install face_recognition\n",
        "import face_recognition\n",
        "import imutils\n",
        "import pickle\n",
        "import time\n",
        "import cv2\n",
        "import dlib\n",
        "import time\n",
        "print('Are we using GPU? :', dlib.DLIB_USE_CUDA)\n"
      ],
      "execution_count": 4,
      "outputs": [
        {
          "output_type": "stream",
          "text": [
            "Requirement already satisfied: face_recognition in /usr/local/lib/python3.6/dist-packages (1.3.0)\n",
            "Requirement already satisfied: dlib>=19.7 in /usr/local/lib/python3.6/dist-packages (from face_recognition) (19.18.0)\n",
            "Requirement already satisfied: Click>=6.0 in /usr/local/lib/python3.6/dist-packages (from face_recognition) (7.1.2)\n",
            "Requirement already satisfied: face-recognition-models>=0.3.0 in /usr/local/lib/python3.6/dist-packages (from face_recognition) (0.3.0)\n",
            "Requirement already satisfied: Pillow in /usr/local/lib/python3.6/dist-packages (from face_recognition) (7.0.0)\n",
            "Requirement already satisfied: numpy in /usr/local/lib/python3.6/dist-packages (from face_recognition) (1.18.4)\n",
            "Are we using GPU? : True\n"
          ],
          "name": "stdout"
        }
      ]
    },
    {
      "cell_type": "code",
      "metadata": {
        "id": "Zf_b7LEY_xJM",
        "colab_type": "code",
        "colab": {
          "base_uri": "https://localhost:8080/",
          "height": 71
        },
        "outputId": "d3518af6-7b75-42e6-ef89-babc0398b806"
      },
      "source": [
        "\n",
        "\n",
        "# paths\n",
        "\n",
        "\n",
        "start_time = time.time()\n",
        "\n",
        "\n",
        "path_encoding = '/content/gdrive/My Drive/COMPUTER VISION/face_recognition/encodings.pickle'\n",
        "path_video = '/content/gdrive/My Drive/COMPUTER VISION/face_recognition/videos/fight_club_philosophy.mp4'\n",
        "path_output = '/content/gdrive/My Drive/COMPUTER VISION/face_recognition/output/fight_club_philosophy_output.mp4'\n",
        "detection_method = 'cnn'\n",
        "\n",
        "\n",
        "\n",
        "# load the known faces and embeddings\n",
        "print(\"[INFO] loading encodings...\")\n",
        "data = pickle.loads(open(path_encoding, \"rb\").read())\n",
        "\n",
        "# initialize the pointer to the video file and the video writer\n",
        "print(\"[INFO] processing video...\")\n",
        "stream = cv2.VideoCapture(path_video)\n",
        "writer = None\n",
        "\n",
        "# loop over frames from the video file stream\n",
        "while True:\n",
        "\t# grab the next frame\n",
        "\t(grabbed, frame) = stream.read()\n",
        "\n",
        "\t# if the frame was not grabbed, then we have reached the\n",
        "\t# end of the stream\n",
        "\tif not grabbed:\n",
        "\t\tbreak\n",
        "\n",
        "\t# convert the input frame from BGR to RGB then resize it to have\n",
        "\t# a width of 750px (to speedup processing)\n",
        "\trgb = cv2.cvtColor(frame, cv2.COLOR_BGR2RGB)\n",
        "\trgb = imutils.resize(frame, width=750)\n",
        "\tr = frame.shape[1] / float(rgb.shape[1])\n",
        "\n",
        "\t# detect the (x, y)-coordinates of the bounding boxes\n",
        "\t# corresponding to each face in the input frame, then compute\n",
        "\t# the facial embeddings for each face\n",
        "\tboxes = face_recognition.face_locations(rgb,\n",
        "\t\tmodel=detection_method)\n",
        "\tencodings = face_recognition.face_encodings(rgb, boxes)\n",
        "\tnames = []\n",
        "\n",
        "\t# loop over the facial embeddings\n",
        "\tfor encoding in encodings:\n",
        "\t\t# attempt to match each face in the input image to our known\n",
        "\t\t# encodings\n",
        "\t\tmatches = face_recognition.compare_faces(data[\"encodings\"],\n",
        "\t\t\tencoding)\n",
        "\t\tname = \"Unknown\"\n",
        "\n",
        "\t\t# check to see if we have found a match\n",
        "\t\tif True in matches:\n",
        "\t\t\t# find the indexes of all matched faces then initialize a\n",
        "\t\t\t# dictionary to count the total number of times each face\n",
        "\t\t\t# was matched\n",
        "\t\t\tmatchedIdxs = [i for (i, b) in enumerate(matches) if b]\n",
        "\t\t\tcounts = {}\n",
        "\n",
        "\t\t\t# loop over the matched indexes and maintain a count for\n",
        "\t\t\t# each recognized face face\n",
        "\t\t\tfor i in matchedIdxs:\n",
        "\t\t\t\tname = data[\"names\"][i]\n",
        "\t\t\t\tcounts[name] = counts.get(name, 0) + 1\n",
        "\n",
        "\t\t\t# determine the recognized face with the largest number\n",
        "\t\t\t# of votes (note: in the event of an unlikely tie Python\n",
        "\t\t\t# will select first entry in the dictionary)\n",
        "\t\t\tname = max(counts, key=counts.get)\n",
        "\t\t\n",
        "\t\t# update the list of names\n",
        "\t\tnames.append(name)\n",
        "\n",
        "\t# loop over the recognized faces\n",
        "\tfor ((top, right, bottom, left), name) in zip(boxes, names):\n",
        "\t\t# rescale the face coordinates\n",
        "\t\ttop = int(top * r)\n",
        "\t\tright = int(right * r)\n",
        "\t\tbottom = int(bottom * r)\n",
        "\t\tleft = int(left * r)\n",
        "\n",
        "\t\t# draw the predicted face name on the image\n",
        "\t\tcv2.rectangle(frame, (left, top), (right, bottom),\n",
        "\t\t\t(0, 255, 0), 2)\n",
        "\t\ty = top - 15 if top - 15 > 15 else top + 15\n",
        "\t\tcv2.putText(frame, name, (left, y), cv2.FONT_HERSHEY_SIMPLEX,\n",
        "\t\t\t0.75, (0, 255, 0), 2)\n",
        "\n",
        "\t# if the video writer is None *AND* we are supposed to write\n",
        "\t# the output video to disk initialize the writer\n",
        "\tif writer is None and path_output is not None:\n",
        "\t\tfourcc = cv2.VideoWriter_fourcc(*\"MJPG\")\n",
        "\t\twriter = cv2.VideoWriter(path_output, fourcc, 24,\n",
        "\t\t\t(frame.shape[1], frame.shape[0]), True)\n",
        "\n",
        "\t# if the writer is not None, write the frame with recognized\n",
        "\t# faces t odisk\n",
        "\tif writer is not None:\n",
        "\t\twriter.write(frame)\n",
        "\n",
        "\n",
        "\n",
        "# close the video file pointers\n",
        "stream.release()\n",
        "\n",
        "# check to see if the video writer point needs to be released\n",
        "if writer is not None:\n",
        "\twriter.release()\n",
        " \n",
        "print(\"[INFO] --- %s seconds ---\" % (time.time() - start_time))"
      ],
      "execution_count": 5,
      "outputs": [
        {
          "output_type": "stream",
          "text": [
            "[INFO] loading encodings...\n",
            "[INFO] processing video...\n",
            "[INFO] --- 206.1692295074463 seconds ---\n"
          ],
          "name": "stdout"
        }
      ]
    },
    {
      "cell_type": "code",
      "metadata": {
        "id": "LDMwmM3eJdyR",
        "colab_type": "code",
        "colab": {}
      },
      "source": [
        ""
      ],
      "execution_count": 0,
      "outputs": []
    }
  ]
}