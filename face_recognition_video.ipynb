{
  "nbformat": 4,
  "nbformat_minor": 0,
  "metadata": {
    "colab": {
      "name": "Visualize video.ipynb",
      "provenance": [],
      "collapsed_sections": []
    },
    "kernelspec": {
      "name": "python3",
      "display_name": "Python 3"
    },
    "accelerator": "GPU"
  },
  "cells": [
    {
      "cell_type": "markdown",
      "metadata": {
        "id": "grBUTPcd5iny",
        "colab_type": "text"
      },
      "source": [
        "# Mount drive\n",
        "\n"
      ]
    },
    {
      "cell_type": "code",
      "metadata": {
        "id": "gd9XemGX5eC4",
        "colab_type": "code",
        "outputId": "7e849488-c03a-420b-c09e-5e1c044345d0",
        "colab": {
          "base_uri": "https://localhost:8080/",
          "height": 35
        }
      },
      "source": [
        "from google.colab import drive\n",
        "drive.mount('/content/gdrive')"
      ],
      "execution_count": 1,
      "outputs": [
        {
          "output_type": "stream",
          "text": [
            "Drive already mounted at /content/gdrive; to attempt to forcibly remount, call drive.mount(\"/content/gdrive\", force_remount=True).\n"
          ],
          "name": "stdout"
        }
      ]
    },
    {
      "cell_type": "markdown",
      "metadata": {
        "id": "9G1fBeoM5r9u",
        "colab_type": "text"
      },
      "source": [
        "# Face recognition video\n",
        "\n",
        "Run with GPU\n",
        "\n",
        "Source code from https://www.pyimagesearch.com/2018/06/18/face-recognition-with-opencv-python-and-deep-learning/"
      ]
    },
    {
      "cell_type": "code",
      "metadata": {
        "id": "W2-fCJ34CMDq",
        "colab_type": "code",
        "outputId": "36d2f4b5-f0fa-41e9-8c5a-22daf212bf8b",
        "colab": {
          "base_uri": "https://localhost:8080/",
          "height": 143
        }
      },
      "source": [
        "!pip install face_recognition\n",
        "import face_recognition\n",
        "import imutils\n",
        "import pickle\n",
        "import time\n",
        "import cv2\n",
        "import dlib\n",
        "import time\n",
        "print('Are we using GPU? :', dlib.DLIB_USE_CUDA)\n"
      ],
      "execution_count": 2,
      "outputs": [
        {
          "output_type": "stream",
          "text": [
            "Requirement already satisfied: face_recognition in /usr/local/lib/python3.6/dist-packages (1.3.0)\n",
            "Requirement already satisfied: dlib>=19.7 in /usr/local/lib/python3.6/dist-packages (from face_recognition) (19.18.0)\n",
            "Requirement already satisfied: Pillow in /usr/local/lib/python3.6/dist-packages (from face_recognition) (7.0.0)\n",
            "Requirement already satisfied: Click>=6.0 in /usr/local/lib/python3.6/dist-packages (from face_recognition) (7.1.2)\n",
            "Requirement already satisfied: face-recognition-models>=0.3.0 in /usr/local/lib/python3.6/dist-packages (from face_recognition) (0.3.0)\n",
            "Requirement already satisfied: numpy in /usr/local/lib/python3.6/dist-packages (from face_recognition) (1.18.4)\n",
            "Are we using GPU? : True\n"
          ],
          "name": "stdout"
        }
      ]
    },
    {
      "cell_type": "code",
      "metadata": {
        "id": "Zf_b7LEY_xJM",
        "colab_type": "code",
        "outputId": "8b4ec84b-449b-441b-b0db-7943250395be",
        "colab": {
          "base_uri": "https://localhost:8080/",
          "height": 71
        }
      },
      "source": [
        "\n",
        "\n",
        "# paths\n",
        "\n",
        "\n",
        "start_time = time.time()\n",
        "\n",
        "\n",
        "path_encoding = '/content/gdrive/My Drive/COMPUTER VISION/face_recognition/encodings.pickle'\n",
        "path_video = '/content/gdrive/My Drive/COMPUTER VISION/face_recognition/videos/fight_club_philosophy.mp4'\n",
        "path_output = '/content/gdrive/My Drive/COMPUTER VISION/face_recognition/output/fight_club_philosophy_output1.mp4'\n",
        "detection_method = 'cnn'\n",
        "\n",
        "count = {'brad_pitt':0,\n",
        "         'edward_norton':0}\n",
        "\n",
        "posicion = {'brad_pitt':13,\n",
        "         'edward_norton':28}\n",
        "\n",
        "# load the known faces and embeddings\n",
        "print(\"[INFO] loading encodings...\")\n",
        "data = pickle.loads(open(path_encoding, \"rb\").read())\n",
        "\n",
        "# initialize the pointer to the video file and the video writer\n",
        "print(\"[INFO] processing video...\")\n",
        "stream = cv2.VideoCapture(path_video)\n",
        "total_frames = int(stream.get(cv2.CAP_PROP_FRAME_COUNT))\n",
        "width  = stream.get(cv2.CAP_PROP_FRAME_WIDTH)\n",
        "writer = None\n",
        "\n",
        "# loop over frames from the video file stream\n",
        "while True:\n",
        "\t# grab the next frame\n",
        "\t(grabbed, frame) = stream.read()\n",
        "\n",
        "\t# if the frame was not grabbed, then we have reached the\n",
        "\t# end of the stream\n",
        "\tif not grabbed:\n",
        "\t\tbreak\n",
        "\n",
        "\t\n",
        "\t# convert the input frame from BGR to RGB then resize it to have\n",
        "\t# a width of 750px (to speedup processing)\n",
        "\trgb = cv2.cvtColor(frame, cv2.COLOR_BGR2RGB)\n",
        "\trgb = imutils.resize(frame, width=750)\n",
        "\tr = frame.shape[1] / float(rgb.shape[1])\n",
        " \n",
        "\t\n",
        "\n",
        "\t# detect the (x, y)-coordinates of the bounding boxes\n",
        "\t# corresponding to each face in the input frame, then compute\n",
        "\t# the facial embeddings for each face\n",
        "\tboxes = face_recognition.face_locations(rgb,\n",
        "\t\tmodel=detection_method)\n",
        "\tencodings = face_recognition.face_encodings(rgb, boxes)\n",
        "\tnames = []\n",
        "\n",
        "\t# loop over the facial embeddings\n",
        "\tfor encoding in encodings:\n",
        "\t\t# attempt to match each face in the input image to our known\n",
        "\t\t# encodings\n",
        "\t\tmatches = face_recognition.compare_faces(data[\"encodings\"],\n",
        "\t\t\tencoding)\n",
        "\t\tname = \"Unknown\"\n",
        "\n",
        "\t\t# check to see if we have found a match\n",
        "\t\tif True in matches:\n",
        "\t\t\t# find the indexes of all matched faces then initialize a\n",
        "\t\t\t# dictionary to count the total number of times each face\n",
        "\t\t\t# was matched\n",
        "\t\t\tmatchedIdxs = [i for (i, b) in enumerate(matches) if b]\n",
        "\t\t\tcounts = {}\n",
        "\n",
        "\t\t\t# loop over the matched indexes and maintain a count for\n",
        "\t\t\t# each recognized face face\n",
        "\t\t\tfor i in matchedIdxs:\n",
        "\t\t\t\tname = data[\"names\"][i]\n",
        "\t\t\t\tcounts[name] = counts.get(name, 0) + 1\n",
        "\n",
        "\t\t\t# determine the recognized face with the largest number\n",
        "\t\t\t# of votes (note: in the event of an unlikely tie Python\n",
        "\t\t\t# will select first entry in the dictionary)\n",
        "\t\t\tname = max(counts, key=counts.get)\n",
        "\t\t\n",
        "\t\t# update the list of names\n",
        "\t\tnames.append(name)\n",
        "\n",
        "\t# loop over the recognized faces\n",
        "\tfor ((top, right, bottom, left), name) in zip(boxes, names):\n",
        "\t\t# rescale the face coordinates\n",
        "\t\ttop = int(top * r)\n",
        "\t\tright = int(right * r)\n",
        "\t\tbottom = int(bottom * r)\n",
        "\t\tleft = int(left * r)\n",
        "\t\tcount[name]+=1\n",
        "\t\t# draw the predicted face name on the image\n",
        "\t\tcv2.rectangle(frame, (left, top), (right, bottom),\n",
        "\t\t\t(0, 255, 0), 2)\n",
        "\t\ty = top - 15 if top - 15 > 15 else top + 15\n",
        "\t\tcv2.putText(frame, name, (left, y), cv2.FONT_HERSHEY_SIMPLEX,\n",
        "\t\t\t0.75, (0, 255, 0), 2)\n",
        "\t\tfor name in count:\n",
        "\t\t  cv2.line(frame, (0,posicion[name]), (int(count[name]/total_frames*width*0.75),posicion[name]), (0, 255, 0) , 8) \n",
        "\t\t  cv2.putText(frame, name, (int(count[name]/total_frames*width*0.75)+15, posicion[name]+1), cv2.FONT_HERSHEY_SIMPLEX, 0.75, (0, 255, 0), 2) \n",
        "\n",
        "\t# if the video writer is None *AND* we are supposed to write\n",
        "\t# the output video to disk initialize the writer\n",
        "\tif writer is None and path_output is not None:\n",
        "\t\tfourcc = cv2.VideoWriter_fourcc(*\"MJPG\")\n",
        "\t\twriter = cv2.VideoWriter(path_output, fourcc, 24,\n",
        "\t\t\t(frame.shape[1], frame.shape[0]), True)\n",
        "\n",
        "\t# if the writer is not None, write the frame with recognized\n",
        "\t# faces t odisk\n",
        "\tif writer is not None:\n",
        "\t\twriter.write(frame)\n",
        "\n",
        "\n",
        "\n",
        "# close the video file pointers\n",
        "stream.release()\n",
        "\n",
        "# check to see if the video writer point needs to be released\n",
        "if writer is not None:\n",
        "\twriter.release()\n",
        " \n",
        "print(\"[INFO] --- %s seconds ---\" % (time.time() - start_time))"
      ],
      "execution_count": 3,
      "outputs": [
        {
          "output_type": "stream",
          "text": [
            "[INFO] loading encodings...\n",
            "[INFO] processing video...\n",
            "[INFO] --- 209.87323999404907 seconds ---\n"
          ],
          "name": "stdout"
        }
      ]
    },
    {
      "cell_type": "code",
      "metadata": {
        "id": "eLkGsYPqPPnV",
        "colab_type": "code",
        "outputId": "a572e071-2250-43d6-c95d-decac4829dac",
        "colab": {
          "base_uri": "https://localhost:8080/",
          "height": 35
        }
      },
      "source": [
        "count"
      ],
      "execution_count": 5,
      "outputs": [
        {
          "output_type": "execute_result",
          "data": {
            "text/plain": [
              "{'brad_pitt': 1697, 'edward_norton': 1220}"
            ]
          },
          "metadata": {
            "tags": []
          },
          "execution_count": 5
        }
      ]
    },
    {
      "cell_type": "code",
      "metadata": {
        "id": "kfXuxX-1WVEy",
        "colab_type": "code",
        "colab": {
          "base_uri": "https://localhost:8080/",
          "height": 35
        },
        "outputId": "03acc92c-8388-410a-fbac-2e473a5aa57c"
      },
      "source": [
        "list(count.keys())"
      ],
      "execution_count": 11,
      "outputs": [
        {
          "output_type": "execute_result",
          "data": {
            "text/plain": [
              "['brad_pitt', 'edward_norton']"
            ]
          },
          "metadata": {
            "tags": []
          },
          "execution_count": 11
        }
      ]
    },
    {
      "cell_type": "code",
      "metadata": {
        "id": "tXlnIwFJVthM",
        "colab_type": "code",
        "colab": {
          "base_uri": "https://localhost:8080/",
          "height": 353
        },
        "outputId": "ae886456-6a7c-4ec1-c1a5-41173a325783"
      },
      "source": [
        "import matplotlib.pyplot as plt\n",
        "fig = plt.figure()\n",
        "ax = fig.add_axes([0,0,1,1])\n",
        "names = list(count.keys())\n",
        "detected = list(count.values())\n",
        "ax.bar(names,detected,width=0.5)\n",
        "ax.set_ylabel('N frames')\n",
        "ax.set_title('Fight club')\n",
        "plt.show()"
      ],
      "execution_count": 20,
      "outputs": [
        {
          "output_type": "display_data",
          "data": {
            "image/png": "[encoded data removed]",
            "text/plain": [
              "<Figure size 432x288 with 1 Axes>"
            ]
          },
          "metadata": {
            "tags": [],
            "needs_background": "light"
          }
        }
      ]
    }
  ]
}